{
 "cells": [
  {
   "cell_type": "markdown",
   "metadata": {},
   "source": [
    "# Giphy CLI\n",
    "\n",
    "Example of Giphy CLI .NET global tool in a notebook with the new `--markdown` option available in v2.0.\n",
    "\n",
    "To install the tool:\n",
    "`dotnet tool install --global giphycli`\n",
    "\n",
    "If you need to update the tool:\n",
    "`dotnet tool update --global giphycli`\n",
    "\n",
    "Needs .NET Interactive Notebooks for VS Code:\n",
    "https://marketplace.visualstudio.com/items?itemName=ms-dotnettools.dotnet-interactive-vscode\n",
    "\n",
    "More info: \n",
    "https://channel9.msdn.com/Events/dotnetConf/2020/S231\n",
    ""
   ]
  },
  {
   "cell_type": "code",
   "execution_count": 1,
   "metadata": {},
   "source": [
    "#!pwsh\n",
    "giphy.exe work --markdown | Out-Display -MimeType \"text/markdown\""
   ],
   "outputs": [
    {
     "output_type": "execute_result",
     "data": {
      "text/markdown": "![Over It Thank You GIF by QuickBooks](https://media4.giphy.com/media/8JW82ndaYfmNoYAekM/giphy.gif)"
     },
     "execution_count": 1,
     "metadata": {}
    }
   ]
  }
 ],
 "metadata": {
  "kernelspec": {
   "display_name": ".NET (C#)",
   "language": "C#",
   "name": ".net-csharp"
  },
  "language_info": {
   "file_extension": ".cs",
   "mimetype": "text/x-csharp",
   "name": "C#",
   "pygments_lexer": "csharp",
   "version": "8.0"
  }
 },
 "nbformat": 4,
 "nbformat_minor": 4
}